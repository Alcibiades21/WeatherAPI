{
 "cells": [
  {
   "cell_type": "code",
   "execution_count": null,
   "id": "0996032c",
   "metadata": {},
   "outputs": [],
   "source": [
    "import requests\n",
    "import matplotlib.pyplot as mat\n",
    "import numpy as np"
   ]
  },
  {
   "cell_type": "code",
   "execution_count": null,
   "id": "19cfdf1d",
   "metadata": {},
   "outputs": [],
   "source": [
    "def response():\n",
    "    ciudad = input(\"Ingrese nombre de una ciudad que desea pronosticar: \")\n",
    "    url = f\"http://127.0.0.1:8000/{ciudad}\"\n",
    "    request = requests.get(url)\n",
    "    \n",
    "    if request.status_code == 404:\n",
    "        print(\"La ciudad que ingresaste no existe, por favor intente de nuevo\")\n",
    "        return response()\n",
    "    else:\n",
    "        return request.json()\n"
   ]
  },
  {
   "cell_type": "code",
   "execution_count": null,
   "id": "2d972c5f",
   "metadata": {},
   "outputs": [],
   "source": [
    "dic = response()\n",
    "\n",
    "x_tiempo = []\n",
    "y_temp = []\n",
    "cont = 0\n",
    "while True:\n",
    "    x_tiempo.append(dic[\"forecast\"][cont][\"date\"].split(\" \")[1])\n",
    "    y_temp.append(float(dic[\"forecast\"][cont][\"clima\"][\"temp\"]))\n",
    "\n",
    "    if x_tiempo[cont] in \"00:00:00\":\n",
    "        x_tiempo[cont] = \"24:00:00\"\n",
    "        break\n",
    "    cont += 1"
   ]
  },
  {
   "cell_type": "code",
   "execution_count": null,
   "id": "2104349e",
   "metadata": {},
   "outputs": [],
   "source": [
    "for i in range(0, len(x_tiempo)):\n",
    "    hh_mm_ss = x_tiempo[i].split(\":\")\n",
    "    x_tiempo[i] = int(hh_mm_ss[0]) "
   ]
  },
  {
   "cell_type": "code",
   "execution_count": null,
   "id": "418cb030",
   "metadata": {},
   "outputs": [],
   "source": [
    "\n",
    "x_ones = np.c_[np.ones(len(x_tiempo)), x_tiempo]\n",
    "\n",
    "theta = np.linalg.inv(x_ones.T.dot(x_ones)).dot(x_ones.T).dot(y_temp)\n",
    "\n",
    "theta"
   ]
  },
  {
   "cell_type": "code",
   "execution_count": null,
   "id": "83ebcd73",
   "metadata": {},
   "outputs": [],
   "source": [
    "mat.scatter(x_tiempo,y_temp, s=40, c=\"#06d6a0\")\n",
    "x_lim = [170,190]\n",
    "x_lim_ones = np.c_[np.ones(2), x_lim]\n",
    "y_lim = x_lim_ones.dot(theta)\n",
    "mat.plot(x_tiempo, y_temp, \"r-\")\n",
    "\n",
    "mat.axis([170, 190,70,100])\n",
    "mat.xlabel(\"H\")\n",
    "mat.ylabel(\"C°\")\n",
    "mat.title(\"Tiempo x Temperatura\") \n",
    "mat.grid()"
   ]
  }
 ],
 "metadata": {
  "kernelspec": {
   "display_name": "Python 3",
   "language": "python",
   "name": "python3"
  },
  "language_info": {
   "name": "python",
   "version": "3.13.3"
  }
 },
 "nbformat": 4,
 "nbformat_minor": 5
}
